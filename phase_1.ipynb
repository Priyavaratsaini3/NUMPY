{
 "cells": [
  {
   "cell_type": "markdown",
   "metadata": {},
   "source": [
    "## Numpy array and basics\n",
    "learn about numpy with chai aur code"
   ]
  },
  {
   "cell_type": "code",
   "execution_count": 2,
   "metadata": {},
   "outputs": [],
   "source": [
    "import numpy as np\n"
   ]
  },
  {
   "cell_type": "markdown",
   "metadata": {},
   "source": [
    "### creating array from list"
   ]
  },
  {
   "cell_type": "code",
   "execution_count": 3,
   "metadata": {},
   "outputs": [
    {
     "name": "stdout",
     "output_type": "stream",
     "text": [
      "1D array: [1 2 3 4 5]\n",
      "2D array: [[1 2 3]\n",
      " [4 5 6]]\n"
     ]
    }
   ],
   "source": [
    "arr_1d = np.array([1,2,3,4,5])\n",
    "print(\"1D array:\", arr_1d)\n",
    "\n",
    "arr_2d = np.array([[1,2,3],[4,5,6]])\n",
    "print(\"2D array:\", arr_2d)"
   ]
  },
  {
   "cell_type": "markdown",
   "metadata": {},
   "source": [
    "### List vs numpy array"
   ]
  },
  {
   "cell_type": "code",
   "execution_count": 8,
   "metadata": {},
   "outputs": [
    {
     "name": "stdout",
     "output_type": "stream",
     "text": [
      "Python list multiplication: [1, 2, 3, 1, 2, 3]\n",
      "Python array multiplication: [2 4 6]\n",
      "\n",
      " List operation time:  0.07886266708374023\n",
      "\n",
      " Numpy operation time:  0.005439043045043945\n"
     ]
    }
   ],
   "source": [
    "py_list = [1,2,3]\n",
    "print(\"Python list multiplication:\", py_list * 2) \n",
    "\n",
    "np_array = np.array([1,2,3])# element wise multiplication\n",
    "print(\"Python array multiplication:\", np_array * 2)\n",
    "\n",
    "import time\n",
    "start = time.time()\n",
    "py_list = [i * 2 for i in range(1000000)]\n",
    "print(\"\\n List operation time: \", time.time() - start)\n",
    "\n",
    "start = time.time()\n",
    "np_array = np.arange(1000000) * 2\n",
    "print(\"\\n Numpy operation time: \", time.time() - start)\n"
   ]
  },
  {
   "cell_type": "markdown",
   "metadata": {},
   "source": [
    "### creating array from scrach"
   ]
  },
  {
   "cell_type": "code",
   "execution_count": 13,
   "metadata": {},
   "outputs": [
    {
     "name": "stdout",
     "output_type": "stream",
     "text": [
      "zeros array: \n",
      " [[0. 0. 0. 0. 0.]\n",
      " [0. 0. 0. 0. 0.]\n",
      " [0. 0. 0. 0. 0.]]\n",
      "ones array: \n",
      " [[1. 1. 1.]\n",
      " [1. 1. 1.]]\n",
      "full array: \n",
      " [[7 7]\n",
      " [7 7]]\n",
      "random array: \n",
      " [[0.36896263 0.93386594 0.37882265]\n",
      " [0.67120393 0.59222966 0.14956957]]\n",
      "sequence array: \n",
      " [0 2 4 6 8]\n"
     ]
    }
   ],
   "source": [
    "zeros = np.zeros((3,5))\n",
    "print(\"zeros array: \\n\", zeros)\n",
    "\n",
    "ones = np.ones((2,3))\n",
    "print(\"ones array: \\n\", ones)\n",
    "\n",
    "full = np.full((2,2), 7)\n",
    "print(\"full array: \\n\", full)\n",
    "\n",
    "random = np.random.random((2,3))\n",
    "print(\"random array: \\n\", random)\n",
    "\n",
    "sequence = np.arange(0, 10, 2)\n",
    "print(\"sequence array: \\n\", sequence)"
   ]
  },
  {
   "cell_type": "markdown",
   "metadata": {},
   "source": [
    "### Vector, Matrix and Tensor"
   ]
  },
  {
   "cell_type": "code",
   "execution_count": 18,
   "metadata": {},
   "outputs": [
    {
     "name": "stdout",
     "output_type": "stream",
     "text": [
      "vector:  [1 2 3]\n",
      "matrix: \n",
      " [[1 2 3]\n",
      " [4 5 6]]\n",
      "Tensor: \n",
      "  [[[1 2]\n",
      "  [2 3]]\n",
      "\n",
      " [[5 6]\n",
      "  [7 5]]]\n"
     ]
    }
   ],
   "source": [
    "vector = np.array([1,2,3])\n",
    "print(\"vector: \", vector) \n",
    " \n",
    "matrix = np.array([[1, 2, 3],\n",
    "                  [4, 5, 6]])\n",
    "print(\"matrix: \\n\", matrix) \n",
    "\n",
    "tensor = np.array([[[1,2], [2,3]],\n",
    "                   [[5,6], [7,5]]])\n",
    "print(\"Tensor: \\n \", tensor)\n"
   ]
  },
  {
   "cell_type": "markdown",
   "metadata": {},
   "source": []
  }
 ],
 "metadata": {
  "kernelspec": {
   "display_name": ".venv",
   "language": "python",
   "name": "python3"
  },
  "language_info": {
   "codemirror_mode": {
    "name": "ipython",
    "version": 3
   },
   "file_extension": ".py",
   "mimetype": "text/x-python",
   "name": "python",
   "nbconvert_exporter": "python",
   "pygments_lexer": "ipython3",
   "version": "3.13.1"
  }
 },
 "nbformat": 4,
 "nbformat_minor": 2
}
