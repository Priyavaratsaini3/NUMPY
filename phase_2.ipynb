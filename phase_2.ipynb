{
 "cells": [
  {
   "cell_type": "markdown",
   "metadata": {},
   "source": [
    "# Numpy Array Operation"
   ]
  },
  {
   "cell_type": "code",
   "execution_count": 1,
   "metadata": {},
   "outputs": [],
   "source": [
    "import numpy as np"
   ]
  },
  {
   "cell_type": "code",
   "execution_count": 4,
   "metadata": {},
   "outputs": [
    {
     "name": "stdout",
     "output_type": "stream",
     "text": [
      "Basic Slicing [4 5 6 7]\n",
      "With Step [2 4 6 8]\n",
      "Negative Indexing 7\n"
     ]
    }
   ],
   "source": [
    "arr = np.arange(1, 10)\n",
    "print(\"Basic Slicing\", arr[3:7])\n",
    "print(\"With Step\", arr[1:8:2])\n",
    "print(\"Negative Indexing\", arr[-3])\n"
   ]
  },
  {
   "cell_type": "code",
   "execution_count": 5,
   "metadata": {},
   "outputs": [
    {
     "name": "stdout",
     "output_type": "stream",
     "text": [
      "Specific element 6\n",
      "Entire row [4 5 6]\n",
      "Entire column [2 5 8]\n"
     ]
    }
   ],
   "source": [
    "arr_2d = np.array([[1, 2, 3],\n",
    "                    [4, 5, 6],\n",
    "                    [7, 8, 9]])\n",
    "print(\"Specific element\", arr_2d[1,2])\n",
    "print(\"Entire row\", arr_2d[1])\n",
    "print(\"Entire column\", arr_2d[:, 1])"
   ]
  },
  {
   "cell_type": "markdown",
   "metadata": {},
   "source": [
    "## Sorting"
   ]
  },
  {
   "cell_type": "code",
   "execution_count": 7,
   "metadata": {},
   "outputs": [
    {
     "name": "stdout",
     "output_type": "stream",
     "text": [
      "Sorted Array [ 2  3  4  4  5  5  6  6  7 83]\n",
      "Sorted 2D array by column:\n",
      " [[3 2]\n",
      " [3 2]\n",
      " [4 5]]\n"
     ]
    }
   ],
   "source": [
    "unsorted = np.array([3,4,5,6,6,7,83,2,4,5])\n",
    "print(\"Sorted Array\", np.sort(unsorted))\n",
    "\n",
    "arr_2d_unsorted =  np.array([[3,2],[4,5],[3,2]])\n",
    "print(\"Sorted 2D array by column:\\n\", np.sort(arr_2d_unsorted, axis=0))"
   ]
  },
  {
   "cell_type": "markdown",
   "metadata": {},
   "source": [
    "## Filter"
   ]
  },
  {
   "cell_type": "code",
   "execution_count": 8,
   "metadata": {},
   "outputs": [
    {
     "name": "stdout",
     "output_type": "stream",
     "text": [
      "Even Numbers [2 4 6 8]\n"
     ]
    }
   ],
   "source": [
    "numbers = np.array([1,2,3,4,5,6,7,8,9])\n",
    "even_number = numbers[numbers % 2 == 0]\n",
    "print(\"Even Numbers\", even_number)"
   ]
  },
  {
   "cell_type": "markdown",
   "metadata": {},
   "source": [
    "## Filter with mask"
   ]
  },
  {
   "cell_type": "code",
   "execution_count": 9,
   "metadata": {},
   "outputs": [
    {
     "name": "stdout",
     "output_type": "stream",
     "text": [
      "Numbers greater than 5 [6 7 8 9]\n"
     ]
    }
   ],
   "source": [
    "mask = numbers > 5\n",
    "print(\"Numbers greater than 5\", numbers[mask])"
   ]
  },
  {
   "cell_type": "markdown",
   "metadata": {},
   "source": [
    "## Fancy indexing vs np.where()"
   ]
  },
  {
   "cell_type": "code",
   "execution_count": 10,
   "metadata": {},
   "outputs": [
    {
     "name": "stdout",
     "output_type": "stream",
     "text": [
      "[1 3 5]\n",
      "(array([5, 6, 7, 8]),)\n",
      "NP where [6 7 8 9]\n"
     ]
    }
   ],
   "source": [
    "indices = [0, 2, 4]\n",
    "print(numbers[indices])\n",
    "\n",
    "where_result = np.where(numbers > 5)\n",
    "print(where_result)\n",
    "print(\"NP where\", numbers[where_result])"
   ]
  },
  {
   "cell_type": "code",
   "execution_count": 11,
   "metadata": {},
   "outputs": [
    {
     "name": "stdout",
     "output_type": "stream",
     "text": [
      "['false' 'false' 'false' 'false' 'false' 'true' 'true' 'true' 'true']\n"
     ]
    }
   ],
   "source": [
    "condition_array = np.where(numbers > 5 , \"true\", \"false\")\n",
    "print(condition_array)"
   ]
  },
  {
   "cell_type": "markdown",
   "metadata": {},
   "source": [
    "## Adding and removing data"
   ]
  },
  {
   "cell_type": "code",
   "execution_count": 13,
   "metadata": {},
   "outputs": [
    {
     "name": "stdout",
     "output_type": "stream",
     "text": [
      "[1 2 3 4 5 6]\n"
     ]
    }
   ],
   "source": [
    "arr1 = np.array([1,2,3])\n",
    "arr2 = np.array([4,5,6])\n",
    "\n",
    "combined = np.concatenate((arr1, arr2))\n",
    "print(combined)"
   ]
  },
  {
   "cell_type": "markdown",
   "metadata": {},
   "source": [
    "### Array compatibilty"
   ]
  },
  {
   "cell_type": "code",
   "execution_count": 15,
   "metadata": {},
   "outputs": [
    {
     "name": "stdout",
     "output_type": "stream",
     "text": [
      "Compatibilty shape True\n",
      "Compatibilty shape False\n"
     ]
    }
   ],
   "source": [
    "a = np.array([1,2,3])\n",
    "b = np.array([4,5,6])\n",
    "c = np.array([7,8,9,4])\n",
    "\n",
    "print(\"Compatibilty shape\", a.shape == b.shape)\n",
    "print(\"Compatibilty shape\", a.shape == c.shape)"
   ]
  },
  {
   "cell_type": "code",
   "execution_count": 19,
   "metadata": {},
   "outputs": [
    {
     "name": "stdout",
     "output_type": "stream",
     "text": [
      "[[1 2]\n",
      " [3 4]]\n",
      "\n",
      "[[1 2]\n",
      " [3 4]\n",
      " [2 3]]\n",
      "with new coloumn \n",
      " [[1 2 3]\n",
      " [3 4 4]]\n"
     ]
    }
   ],
   "source": [
    "original = np.array([[1,2],[3,4]])\n",
    "new_row = np.array([[2,3]])\n",
    "\n",
    "with_new_row = np.vstack((original, new_row))\n",
    "print(original)\n",
    "print()\n",
    "print(with_new_row)\n",
    "\n",
    "new_col = np.array([[3], [4]])\n",
    "with_new_col = np.hstack((original, new_col))\n",
    "print(\"with new coloumn \\n\", with_new_col)"
   ]
  },
  {
   "cell_type": "code",
   "execution_count": 20,
   "metadata": {},
   "outputs": [
    {
     "name": "stdout",
     "output_type": "stream",
     "text": [
      "Array after deletion :  [2 3 4 5 6]\n"
     ]
    }
   ],
   "source": [
    "arr = np.array([2,3,4,5,5,6])\n",
    "deleted = np.delete(arr, 3)\n",
    "print(\"Array after deletion : \", deleted)"
   ]
  },
  {
   "cell_type": "code",
   "execution_count": null,
   "metadata": {},
   "outputs": [],
   "source": []
  }
 ],
 "metadata": {
  "kernelspec": {
   "display_name": ".venv",
   "language": "python",
   "name": "python3"
  },
  "language_info": {
   "codemirror_mode": {
    "name": "ipython",
    "version": 3
   },
   "file_extension": ".py",
   "mimetype": "text/x-python",
   "name": "python",
   "nbconvert_exporter": "python",
   "pygments_lexer": "ipython3",
   "version": "3.13.1"
  }
 },
 "nbformat": 4,
 "nbformat_minor": 2
}
